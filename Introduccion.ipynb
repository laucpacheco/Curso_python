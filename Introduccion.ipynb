{
  "cells": [
    {
      "cell_type": "markdown",
      "metadata": {
        "id": "view-in-github",
        "colab_type": "text"
      },
      "source": [
        "<a href=\"https://colab.research.google.com/github/laucpacheco/Curso_python/blob/main/Introduccion.ipynb\" target=\"_parent\"><img src=\"https://colab.research.google.com/assets/colab-badge.svg\" alt=\"Open In Colab\"/></a>"
      ]
    },
    {
      "cell_type": "code",
      "execution_count": null,
      "id": "ffbfddec",
      "metadata": {
        "id": "ffbfddec",
        "outputId": "8785146f-ce36-423c-bd0d-f7029a1e181f"
      },
      "outputs": [
        {
          "data": {
            "text/plain": [
              "45"
            ]
          },
          "execution_count": 1,
          "metadata": {},
          "output_type": "execute_result"
        }
      ],
      "source": [
        "30+10+5"
      ]
    },
    {
      "cell_type": "code",
      "execution_count": null,
      "id": "86e9b4a2",
      "metadata": {
        "id": "86e9b4a2"
      },
      "outputs": [],
      "source": [
        "#esto es un comentario"
      ]
    },
    {
      "cell_type": "code",
      "execution_count": null,
      "id": "9826eb74",
      "metadata": {
        "id": "9826eb74",
        "outputId": "9ca92f70-bd1a-424b-c33d-52f898227a2f"
      },
      "outputs": [
        {
          "name": "stdout",
          "output_type": "stream",
          "text": [
            "Help on built-in function print in module builtins:\n",
            "\n",
            "print(...)\n",
            "    print(value, ..., sep=' ', end='\\n', file=sys.stdout, flush=False)\n",
            "    \n",
            "    Prints the values to a stream, or to sys.stdout by default.\n",
            "    Optional keyword arguments:\n",
            "    file:  a file-like object (stream); defaults to the current sys.stdout.\n",
            "    sep:   string inserted between values, default a space.\n",
            "    end:   string appended after the last value, default a newline.\n",
            "    flush: whether to forcibly flush the stream.\n",
            "\n"
          ]
        }
      ],
      "source": [
        "help(print)"
      ]
    },
    {
      "cell_type": "code",
      "execution_count": null,
      "id": "aa1fe1c5",
      "metadata": {
        "id": "aa1fe1c5",
        "outputId": "27dcda0c-31f4-4598-8542-fb57bbdaa063"
      },
      "outputs": [
        {
          "name": "stdout",
          "output_type": "stream",
          "text": [
            "hello world\n"
          ]
        }
      ],
      "source": [
        "print(\"hello world\")"
      ]
    },
    {
      "cell_type": "code",
      "execution_count": null,
      "id": "d4643641",
      "metadata": {
        "id": "d4643641",
        "outputId": "4f1edb00-4bc1-408b-a9a3-717159714b22"
      },
      "outputs": [
        {
          "name": "stdout",
          "output_type": "stream",
          "text": [
            "¿Cuál es su nombre? Mabel\n"
          ]
        }
      ],
      "source": [
        "nombre = input(\"¿Cuál es su nombre? \")"
      ]
    },
    {
      "cell_type": "code",
      "execution_count": null,
      "id": "1512362a",
      "metadata": {
        "id": "1512362a",
        "outputId": "2cd83188-b281-45ea-fdb3-ba4c0eca91d0"
      },
      "outputs": [
        {
          "name": "stdout",
          "output_type": "stream",
          "text": [
            "hola Mabel\n"
          ]
        }
      ],
      "source": [
        "print(\"hola\", nombre)"
      ]
    },
    {
      "cell_type": "code",
      "execution_count": null,
      "id": "f5523182",
      "metadata": {
        "id": "f5523182"
      },
      "outputs": [],
      "source": [
        "import math, random\n",
        "import os\n",
        "import datetime, time\n",
        "from random import *\n",
        "from math import lcm"
      ]
    },
    {
      "cell_type": "code",
      "execution_count": null,
      "id": "219456bf",
      "metadata": {
        "id": "219456bf",
        "outputId": "188ad97a-e2a7-446e-9f59-c73e9c3c851c"
      },
      "outputs": [
        {
          "name": "stdout",
          "output_type": "stream",
          "text": [
            "75\n",
            "var no es par\n"
          ]
        }
      ],
      "source": [
        "import random\n",
        "\n",
        "var = random.randint(0,100)\n",
        "print(var)\n",
        "if var%2 == 0:\n",
        "    print('var es par')\n",
        "\n",
        "else:\n",
        "    print('var no es par')"
      ]
    },
    {
      "cell_type": "code",
      "execution_count": null,
      "id": "38fde0ec",
      "metadata": {
        "id": "38fde0ec",
        "outputId": "f8b14c58-fcd0-4c14-cb2c-44fd561ca625"
      },
      "outputs": [
        {
          "data": {
            "text/plain": [
              "[1, 2]"
            ]
          },
          "execution_count": 11,
          "metadata": {},
          "output_type": "execute_result"
        }
      ],
      "source": [
        "[1]+[2]"
      ]
    },
    {
      "cell_type": "code",
      "execution_count": null,
      "id": "ddf1ce0f",
      "metadata": {
        "id": "ddf1ce0f",
        "outputId": "d9320647-b315-4bdb-c6f6-a02ad11e8930"
      },
      "outputs": [
        {
          "data": {
            "text/plain": [
              "0.375"
            ]
          },
          "execution_count": 12,
          "metadata": {},
          "output_type": "execute_result"
        }
      ],
      "source": [
        "3/8"
      ]
    },
    {
      "cell_type": "code",
      "execution_count": null,
      "id": "65c1dbc2",
      "metadata": {
        "id": "65c1dbc2",
        "outputId": "d3eb6c61-4aef-4ded-eb50-956e3d5a96a2"
      },
      "outputs": [
        {
          "data": {
            "text/plain": [
              "0"
            ]
          },
          "execution_count": 13,
          "metadata": {},
          "output_type": "execute_result"
        }
      ],
      "source": [
        "3//8"
      ]
    },
    {
      "cell_type": "code",
      "execution_count": null,
      "id": "b9a9168a",
      "metadata": {
        "id": "b9a9168a",
        "outputId": "dbe96f18-8a9b-4611-b94b-68abf1583506"
      },
      "outputs": [
        {
          "data": {
            "text/plain": [
              "1"
            ]
          },
          "execution_count": 14,
          "metadata": {},
          "output_type": "execute_result"
        }
      ],
      "source": [
        "5%2"
      ]
    },
    {
      "cell_type": "code",
      "execution_count": null,
      "id": "2b47d87a",
      "metadata": {
        "id": "2b47d87a",
        "outputId": "efcfc352-99ad-41ae-ecea-60a7c49a7577"
      },
      "outputs": [
        {
          "data": {
            "text/plain": [
              "390625"
            ]
          },
          "execution_count": 15,
          "metadata": {},
          "output_type": "execute_result"
        }
      ],
      "source": [
        "5**8"
      ]
    },
    {
      "cell_type": "code",
      "execution_count": null,
      "id": "e8462191",
      "metadata": {
        "id": "e8462191"
      },
      "outputs": [],
      "source": [
        "var = 5"
      ]
    },
    {
      "cell_type": "code",
      "execution_count": null,
      "id": "ef9cf7b6",
      "metadata": {
        "id": "ef9cf7b6",
        "outputId": "ef174c66-201f-4009-db78-8e4767009dc4"
      },
      "outputs": [
        {
          "data": {
            "text/plain": [
              "13"
            ]
          },
          "execution_count": 17,
          "metadata": {},
          "output_type": "execute_result"
        }
      ],
      "source": [
        "var +=8\n",
        "var"
      ]
    },
    {
      "cell_type": "code",
      "execution_count": null,
      "id": "4770897b",
      "metadata": {
        "id": "4770897b",
        "outputId": "9af6ce3d-7133-487e-8026-421af1cea46f"
      },
      "outputs": [
        {
          "data": {
            "text/plain": [
              "104"
            ]
          },
          "execution_count": 18,
          "metadata": {},
          "output_type": "execute_result"
        }
      ],
      "source": [
        "var *=8\n",
        "var"
      ]
    },
    {
      "cell_type": "code",
      "execution_count": null,
      "id": "07d44474",
      "metadata": {
        "id": "07d44474",
        "outputId": "0c5a773c-bef3-4bfd-f3ac-2d5786ea8633"
      },
      "outputs": [
        {
          "data": {
            "text/plain": [
              "13"
            ]
          },
          "execution_count": 19,
          "metadata": {},
          "output_type": "execute_result"
        }
      ],
      "source": [
        "var //=8\n",
        "var"
      ]
    },
    {
      "cell_type": "code",
      "execution_count": null,
      "id": "64243add",
      "metadata": {
        "id": "64243add",
        "outputId": "8abbae27-ac75-4fd8-f177-bd11ae039b67"
      },
      "outputs": [
        {
          "data": {
            "text/plain": [
              "815730721"
            ]
          },
          "execution_count": 20,
          "metadata": {},
          "output_type": "execute_result"
        }
      ],
      "source": [
        "var **=8\n",
        "var"
      ]
    },
    {
      "cell_type": "code",
      "execution_count": null,
      "id": "4e0d90bd",
      "metadata": {
        "id": "4e0d90bd",
        "outputId": "a968fa2e-5954-43e8-fbd1-e63d9109543e"
      },
      "outputs": [
        {
          "data": {
            "text/plain": [
              "False"
            ]
          },
          "execution_count": 21,
          "metadata": {},
          "output_type": "execute_result"
        }
      ],
      "source": [
        "5 == 8"
      ]
    },
    {
      "cell_type": "code",
      "execution_count": null,
      "id": "db1e47fb",
      "metadata": {
        "id": "db1e47fb",
        "outputId": "74661e2d-7ba0-4140-8157-850aed7f06fd"
      },
      "outputs": [
        {
          "data": {
            "text/plain": [
              "True"
            ]
          },
          "execution_count": 22,
          "metadata": {},
          "output_type": "execute_result"
        }
      ],
      "source": [
        "5!=8"
      ]
    },
    {
      "cell_type": "code",
      "execution_count": null,
      "id": "5a2b9e64",
      "metadata": {
        "id": "5a2b9e64",
        "outputId": "81c0097c-9a53-4e84-8580-2f4c8f147ec0"
      },
      "outputs": [
        {
          "data": {
            "text/plain": [
              "False"
            ]
          },
          "execution_count": 23,
          "metadata": {},
          "output_type": "execute_result"
        }
      ],
      "source": [
        "True and False"
      ]
    },
    {
      "cell_type": "code",
      "execution_count": null,
      "id": "67e59eb0",
      "metadata": {
        "id": "67e59eb0",
        "outputId": "eb59bb55-5ff9-4887-d358-b34e92961dbc"
      },
      "outputs": [
        {
          "data": {
            "text/plain": [
              "True"
            ]
          },
          "execution_count": 24,
          "metadata": {},
          "output_type": "execute_result"
        }
      ],
      "source": [
        "True or False"
      ]
    },
    {
      "cell_type": "code",
      "execution_count": null,
      "id": "083d11f0",
      "metadata": {
        "id": "083d11f0",
        "outputId": "1f3385a4-2403-4f47-a76e-12a9a1f2c2a0"
      },
      "outputs": [
        {
          "data": {
            "text/plain": [
              "True"
            ]
          },
          "execution_count": 25,
          "metadata": {},
          "output_type": "execute_result"
        }
      ],
      "source": [
        "5 in[1,2,3,4,5]"
      ]
    },
    {
      "cell_type": "code",
      "execution_count": null,
      "id": "9e0aea63",
      "metadata": {
        "id": "9e0aea63",
        "outputId": "ac2d4f60-0d6e-4da4-d592-16513f92b9a5"
      },
      "outputs": [
        {
          "data": {
            "text/plain": [
              "True"
            ]
          },
          "execution_count": 26,
          "metadata": {},
          "output_type": "execute_result"
        }
      ],
      "source": [
        "6 not in [1,2,3]"
      ]
    },
    {
      "cell_type": "code",
      "execution_count": null,
      "id": "5a751747",
      "metadata": {
        "id": "5a751747",
        "outputId": "7f0bd61b-6471-4b8b-b221-2e05b54c5aa6"
      },
      "outputs": [
        {
          "data": {
            "text/plain": [
              "2"
            ]
          },
          "execution_count": 27,
          "metadata": {},
          "output_type": "execute_result"
        }
      ],
      "source": [
        "10 & 7 # 10=1010 y 7=0111"
      ]
    },
    {
      "cell_type": "code",
      "execution_count": null,
      "id": "d0962c5e",
      "metadata": {
        "id": "d0962c5e",
        "outputId": "71b2887c-e2b7-4cfe-fcf6-7d2a045aaefd"
      },
      "outputs": [
        {
          "data": {
            "text/plain": [
              "15"
            ]
          },
          "execution_count": 28,
          "metadata": {},
          "output_type": "execute_result"
        }
      ],
      "source": [
        "10 | 7"
      ]
    },
    {
      "cell_type": "code",
      "execution_count": null,
      "id": "31bfb652",
      "metadata": {
        "id": "31bfb652",
        "outputId": "2b1f0b73-25a0-40b3-bfa6-ac6cff571897"
      },
      "outputs": [
        {
          "data": {
            "text/plain": [
              "13"
            ]
          },
          "execution_count": 29,
          "metadata": {},
          "output_type": "execute_result"
        }
      ],
      "source": [
        "10 ^ 7"
      ]
    },
    {
      "cell_type": "code",
      "execution_count": null,
      "id": "f3b9e0b8",
      "metadata": {
        "id": "f3b9e0b8",
        "outputId": "d371b4fa-2b56-4946-b945-2a7b51fe867c"
      },
      "outputs": [
        {
          "data": {
            "text/plain": [
              "-11"
            ]
          },
          "execution_count": 30,
          "metadata": {},
          "output_type": "execute_result"
        }
      ],
      "source": [
        "~10"
      ]
    },
    {
      "cell_type": "code",
      "execution_count": null,
      "id": "53f27127",
      "metadata": {
        "id": "53f27127",
        "outputId": "0ba2e94d-e4ac-4c88-ae5e-2c5a04a9f6bb"
      },
      "outputs": [
        {
          "data": {
            "text/plain": [
              "5"
            ]
          },
          "execution_count": 31,
          "metadata": {},
          "output_type": "execute_result"
        }
      ],
      "source": [
        "10 >> 1"
      ]
    },
    {
      "cell_type": "code",
      "execution_count": null,
      "id": "fd4ce28f",
      "metadata": {
        "id": "fd4ce28f",
        "outputId": "4b1ace90-55a9-4593-beb3-5dac749e0ac7"
      },
      "outputs": [
        {
          "data": {
            "text/plain": [
              "20"
            ]
          },
          "execution_count": 32,
          "metadata": {},
          "output_type": "execute_result"
        }
      ],
      "source": [
        "10 << 1"
      ]
    },
    {
      "cell_type": "code",
      "execution_count": null,
      "id": "ba4d9560",
      "metadata": {
        "id": "ba4d9560",
        "outputId": "3dbe9ebc-da34-4da1-85bc-3f02dd5ecd33"
      },
      "outputs": [
        {
          "name": "stdout",
          "output_type": "stream",
          "text": [
            "Ingrese un número cualquiera: -3\n",
            "El número ingresado es negativo\n",
            "El número es impar\n"
          ]
        }
      ],
      "source": [
        "x = int(input('Ingrese un número cualquiera: '))\n",
        "\n",
        "if x < 0:\n",
        "    print('El número ingresado es negativo')\n",
        "    x*=-1\n",
        "\n",
        "elif x ==0:\n",
        "    print('El número ingresado es 0')\n",
        "\n",
        "if x%2 == 0:\n",
        "    print('El número es par')\n",
        "\n",
        "else:\n",
        "    print('El número es impar')"
      ]
    },
    {
      "cell_type": "code",
      "execution_count": null,
      "id": "cf339b26",
      "metadata": {
        "id": "cf339b26",
        "outputId": "e8b73058-74eb-43ba-a423-26caaa76b080"
      },
      "outputs": [
        {
          "name": "stdout",
          "output_type": "stream",
          "text": [
            "X=34\n"
          ]
        }
      ],
      "source": [
        "x = 34\n",
        "y = 0\n",
        "\n",
        "point = (x,y)\n",
        "\n",
        "match point:\n",
        "    case (0, 0):\n",
        "        print(\"Origin\")\n",
        "    case (0, y):\n",
        "        print(f\"Y={y}\") #f= format\n",
        "    case (x, 0):\n",
        "        print(f\"X={x}\")\n",
        "    case (x, y):\n",
        "        print(f\"X={x}, Y={y}\")\n",
        "    case _:\n",
        "        raise ValueError(\"Not a point\")\n"
      ]
    },
    {
      "cell_type": "code",
      "execution_count": null,
      "id": "a4aac2fc",
      "metadata": {
        "id": "a4aac2fc",
        "outputId": "b771d623-a006-42af-c51d-b54203f965b1"
      },
      "outputs": [
        {
          "name": "stdout",
          "output_type": "stream",
          "text": [
            "1\n",
            "2\n",
            "3\n",
            "4\n",
            "5\n",
            "6\n",
            "7\n",
            "8\n",
            "9\n"
          ]
        }
      ],
      "source": [
        "n = 1\n",
        "\n",
        "while n < 10:\n",
        "    print(n)\n",
        "    n +=1"
      ]
    },
    {
      "cell_type": "code",
      "execution_count": null,
      "id": "3bc0b1c4",
      "metadata": {
        "id": "3bc0b1c4",
        "outputId": "8a80f9fc-7e38-4f52-c48d-ea6f5861f591"
      },
      "outputs": [
        {
          "name": "stdout",
          "output_type": "stream",
          "text": [
            "1\n",
            "2\n",
            "3\n",
            "4\n",
            "5\n",
            "6\n",
            "7\n",
            "8\n",
            "9\n"
          ]
        }
      ],
      "source": [
        "l = [1,2,3,4,5,6,7,8,9]\n",
        "\n",
        "for i in l:\n",
        "    print(i)"
      ]
    },
    {
      "cell_type": "code",
      "execution_count": null,
      "id": "698d022b",
      "metadata": {
        "id": "698d022b",
        "outputId": "4fffd197-6516-4e3d-ebab-a81cf9634291"
      },
      "outputs": [
        {
          "name": "stdout",
          "output_type": "stream",
          "text": [
            "0\n",
            "1\n",
            "2\n",
            "3\n",
            "4\n"
          ]
        }
      ],
      "source": [
        "for i in range(5):\n",
        "    print(i)"
      ]
    },
    {
      "cell_type": "code",
      "execution_count": null,
      "id": "65d8bfd6",
      "metadata": {
        "id": "65d8bfd6",
        "outputId": "0f27c4dd-b2c9-4103-f0c8-5aa6d6f43701"
      },
      "outputs": [
        {
          "data": {
            "text/plain": [
              "[5, 6, 7, 8, 9]"
            ]
          },
          "execution_count": 41,
          "metadata": {},
          "output_type": "execute_result"
        }
      ],
      "source": [
        "list(range(5, 10))"
      ]
    },
    {
      "cell_type": "code",
      "execution_count": null,
      "id": "4bde17c8",
      "metadata": {
        "id": "4bde17c8",
        "outputId": "14a28ddd-c9d0-453c-d206-64d46a9d761c"
      },
      "outputs": [
        {
          "data": {
            "text/plain": [
              "[-10, -40, -70]"
            ]
          },
          "execution_count": 42,
          "metadata": {},
          "output_type": "execute_result"
        }
      ],
      "source": [
        "list(range(-10, -100, -30))"
      ]
    },
    {
      "cell_type": "code",
      "execution_count": null,
      "id": "887ad672",
      "metadata": {
        "scrolled": true,
        "id": "887ad672",
        "outputId": "66dad981-1f24-4efd-d6ad-57262ffa0c07"
      },
      "outputs": [
        {
          "name": "stdout",
          "output_type": "stream",
          "text": [
            "0 Mary\n",
            "1 had\n",
            "2 a\n",
            "3 little\n",
            "4 lamb\n"
          ]
        }
      ],
      "source": [
        "a = ['Mary', 'had', 'a', 'little', 'lamb']\n",
        "for i in range(len(a)):\n",
        "    print(i, a[i])"
      ]
    },
    {
      "cell_type": "code",
      "execution_count": null,
      "id": "512fdb1d",
      "metadata": {
        "id": "512fdb1d",
        "outputId": "02860d8b-fcb2-499f-8107-0dde2376a220"
      },
      "outputs": [
        {
          "name": "stdout",
          "output_type": "stream",
          "text": [
            "tamaño del string es:  9\n",
            "tamaño del string es:  6\n",
            "tamaño del string:  12\n"
          ]
        }
      ],
      "source": [
        "def a_function(string):\n",
        "    return len(string)\n",
        "\n",
        "# Llamar a la función\n",
        "print( \"tamaño del string es: \", a_function(\"Functions\"))\n",
        "print( \"tamaño del string es: \", a_function( \"Python\" ) )\n",
        "print(\"tamaño del string: \", a_function(\"Curso Python\"))"
      ]
    },
    {
      "cell_type": "code",
      "execution_count": null,
      "id": "ffbf40f1",
      "metadata": {
        "id": "ffbf40f1",
        "outputId": "d0867f8c-d04b-46c7-8c95-e4eb804a5e73"
      },
      "outputs": [
        {
          "name": "stdout",
          "output_type": "stream",
          "text": [
            "Nombre: Mabel\n",
            "Apellido: Vidal\n"
          ]
        }
      ],
      "source": [
        "def display_info(nombre, apellido):\n",
        "    print('Nombre:', nombre)\n",
        "    print('Apellido:', apellido)\n",
        "\n",
        "display_info(apellido = 'Vidal', nombre = 'Mabel')"
      ]
    },
    {
      "cell_type": "code",
      "execution_count": null,
      "id": "6194f12c",
      "metadata": {
        "id": "6194f12c",
        "outputId": "80769c2e-af2b-45ec-d625-4cfac4f3a0f3"
      },
      "outputs": [
        {
          "name": "stdout",
          "output_type": "stream",
          "text": [
            "[10, 8, 7, 5, 11]\n"
          ]
        }
      ],
      "source": [
        "sequences = [10,2,8,7,5,4,3,11,0,1]\n",
        "filtered_result = filter (lambda x: x > 4, sequences)\n",
        "print(list(filtered_result))"
      ]
    },
    {
      "cell_type": "code",
      "execution_count": null,
      "id": "ffd4b1c7",
      "metadata": {
        "id": "ffd4b1c7",
        "outputId": "9f799a25-17af-48ef-a0e3-7e1d23efcf34"
      },
      "outputs": [
        {
          "data": {
            "text/plain": [
              "[('China', 1391), ('India', 1364), ('Estados Unidos', 327), ('Indonesia', 264)]"
            ]
          },
          "execution_count": 50,
          "metadata": {},
          "output_type": "execute_result"
        }
      ],
      "source": [
        "paises = [\"China\", \"India\", \"Estados Unidos\", \"Indonesia\"]\n",
        "poblaciones = [1391, 1364, 327, 264]\n",
        "list(zip(paises, poblaciones))"
      ]
    },
    {
      "cell_type": "code",
      "execution_count": null,
      "id": "076f54f2",
      "metadata": {
        "id": "076f54f2",
        "outputId": "d5cb8f87-e478-4375-e43a-7ab7e8d47291"
      },
      "outputs": [
        {
          "data": {
            "text/plain": [
              "[(0, 'Java'), (1, 'C'), (2, 'C++'), (3, 'Rust'), (4, 'Elixir')]"
            ]
          },
          "execution_count": 51,
          "metadata": {},
          "output_type": "execute_result"
        }
      ],
      "source": [
        "lenguajes = [\"Java\", \"C\", \"C++\", \"Rust\", \"Elixir\"]\n",
        "list(enumerate(lenguajes))"
      ]
    },
    {
      "cell_type": "code",
      "execution_count": null,
      "id": "e3b51cdb",
      "metadata": {
        "id": "e3b51cdb",
        "outputId": "5d16c05c-7a3f-452f-c4a4-1da93a702810"
      },
      "outputs": [
        {
          "name": "stdout",
          "output_type": "stream",
          "text": [
            "0 Java\n",
            "1 C\n",
            "2 C++\n",
            "3 Rust\n",
            "4 Elixir\n"
          ]
        }
      ],
      "source": [
        "for i, lenguaje in enumerate(lenguajes):\n",
        "    print(i, lenguaje)"
      ]
    },
    {
      "cell_type": "code",
      "execution_count": null,
      "id": "04121c95",
      "metadata": {
        "id": "04121c95",
        "outputId": "4d448d86-0fec-40ef-cf6f-5a203dc5a7c9"
      },
      "outputs": [
        {
          "name": "stdout",
          "output_type": "stream",
          "text": [
            "ingrese el numerador:12\n",
            "ingrese el denominador:0\n",
            "Error: el denominador es nulo\n"
          ]
        }
      ],
      "source": [
        "numerador = float(input('ingrese el numerador:'))\n",
        "denominador = float(input('ingrese el denominador:'))\n",
        "\n",
        "try:\n",
        "    cociente = numerador/denominador\n",
        "    print(f'{numerador}/{denominador} = {cociente}')\n",
        "except ZeroDivisionError:\n",
        "    print('Error: el denominador es nulo')"
      ]
    },
    {
      "cell_type": "code",
      "execution_count": null,
      "id": "e7b85306",
      "metadata": {
        "id": "e7b85306"
      },
      "outputs": [],
      "source": []
    }
  ],
  "metadata": {
    "kernelspec": {
      "display_name": "Python 3 (ipykernel)",
      "language": "python",
      "name": "python3"
    },
    "language_info": {
      "codemirror_mode": {
        "name": "ipython",
        "version": 3
      },
      "file_extension": ".py",
      "mimetype": "text/x-python",
      "name": "python",
      "nbconvert_exporter": "python",
      "pygments_lexer": "ipython3",
      "version": "3.10.10"
    },
    "colab": {
      "provenance": [],
      "include_colab_link": true
    }
  },
  "nbformat": 4,
  "nbformat_minor": 5
}